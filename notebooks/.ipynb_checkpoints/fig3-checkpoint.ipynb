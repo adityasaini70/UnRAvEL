{
 "cells": [
  {
   "cell_type": "code",
   "execution_count": 1,
   "metadata": {},
   "outputs": [
    {
     "name": "stdout",
     "output_type": "stream",
     "text": [
      "Package           Version\n",
      "----------------- ---------\n",
      "asttokens         2.2.1\n",
      "backcall          0.2.0\n",
      "certifi           2022.12.7\n",
      "comm              0.1.2\n",
      "cycler            0.11.0\n",
      "Cython            0.29.32\n",
      "debugpy           1.6.4\n",
      "decorator         5.1.1\n",
      "entrypoints       0.4\n",
      "executing         1.2.0\n",
      "GPy               1.10.0\n",
      "GPyOpt            1.2.6\n",
      "ipykernel         6.19.4\n",
      "ipython           8.7.0\n",
      "jedi              0.18.2\n",
      "joblib            1.2.0\n",
      "jupyter_client    7.4.8\n",
      "jupyter_core      5.1.1\n",
      "kiwisolver        1.4.4\n",
      "matplotlib        3.3.2\n",
      "matplotlib-inline 0.1.6\n",
      "nest-asyncio      1.5.6\n",
      "numpy             1.24.1\n",
      "packaging         22.0\n",
      "paramz            0.9.5\n",
      "parso             0.8.3\n",
      "pexpect           4.8.0\n",
      "pickleshare       0.7.5\n",
      "Pillow            9.3.0\n",
      "pip               22.3.1\n",
      "platformdirs      2.6.2\n",
      "prompt-toolkit    3.0.36\n",
      "psutil            5.9.4\n",
      "ptyprocess        0.7.0\n",
      "pure-eval         0.2.2\n",
      "Pygments          2.13.0\n",
      "pyparsing         3.0.9\n",
      "python-dateutil   2.8.2\n",
      "pyzmq             24.0.1\n",
      "scikit-learn      1.0\n",
      "scipy             1.9.3\n",
      "setuptools        65.6.3\n",
      "six               1.16.0\n",
      "sklearn           0.0.post1\n",
      "stack-data        0.6.2\n",
      "threadpoolctl     3.1.0\n",
      "tornado           6.2\n",
      "traitlets         5.8.0\n",
      "wcwidth           0.2.5\n",
      "wheel             0.38.4\n"
     ]
    }
   ],
   "source": [
    "# !pip install -r /home/pnans/Documents/GitHub/UnRAvEL/requirements.txt\n",
    "# !pip install git+https://github.com/adityasaini70/GPyOpt.git"
   ]
  },
  {
   "cell_type": "code",
   "execution_count": 1,
   "metadata": {},
   "outputs": [
    {
     "data": {
      "image/png": "[encoded data removed]",
      "text/plain": [
       "<Figure size 640x480 with 1 Axes>"
      ]
     },
     "metadata": {},
     "output_type": "display_data"
    }
   ],
   "source": [
    "import numpy as np\n",
    "import matplotlib.pyplot as plt\n",
    "\n",
    "#Modelling f_pred\n",
    "f_pred = lambda X: np.sin(12*X - 4) * (6*X - 2)**2\n",
    "bounds = np.array([[0, 1]])\n",
    "X = np.arange(bounds[0, 0], bounds[0, 1], 0.001).reshape(-1, 1)\n",
    "Y = f_pred(X)\n",
    "X_init = np.array([X[350]])\n",
    "\n",
    "import sklearn \n",
    "# Plot optimization objective with noise level \n",
    "from sklearn.preprocessing import StandardScaler\n",
    "scaler = StandardScaler()\n",
    "Y = scaler.fit_transform(Y)\n",
    "Y_init = np.array([Y[350]])\n",
    "\n",
    "plt.plot(X, Y, label='f_pred')\n",
    "plt.plot(X, Y, '--', lw=3, color = '#00E623',label='Ground truth')\n",
    "plt.plot(X_init, Y_init, 'rx', label='Initial sample x')\n",
    "plt.xlabel(r\"$\\bf{x}$\")\n",
    "plt.ylabel(r\"$\\bf{f_{p}}$\")\n",
    "plt.legend()\n",
    "plt.subplots_adjust(hspace=0)\n",
    "plt.tight_layout()\n",
    "# plt.savefig(\"Introduction_gt.eps\", format = 'eps', dpi=300)\n",
    "# plt.savefig(\"Introduction_gt.png\", dpi=300)"
   ]
  },
  {
   "cell_type": "code",
   "execution_count": 2,
   "metadata": {},
   "outputs": [],
   "source": [
    "#References on acquistion function development\n",
    "#1) https://github.com/SheffieldML/GPyOpt/blob/master/manual/GPyOpt_creating_new_aquisitions.ipynb\n",
    "#2) https://github.com/SheffieldML/GPyOpt/blob/master/manual/GPyOpt_modular_bayesian_optimization.ipynb\n",
    "\n",
    "import GPy\n",
    "import GPyOpt\n",
    "from GPyOpt.acquisitions.base import AcquisitionBase\n",
    "from GPyOpt.core.task.cost import constant_cost_withGradients\n",
    "    \n",
    "class UCB(AcquisitionBase):\n",
    "    \n",
    "    \"\"\"\n",
    "    General template to create a new GPyOPt acquisition function\n",
    "\n",
    "    :param model: GPyOpt class of model\n",
    "    :param space: GPyOpt class of domain\n",
    "    :param optimizer: optimizer of the acquisition. Should be a GPyOpt optimizer\n",
    "    :param cost_withGradients: function that provides the evaluation cost and its gradients\n",
    "\n",
    "    \"\"\"\n",
    "\n",
    "    # --- Set this line to true if analytical gradients are available\n",
    "    analytical_gradient_prediction = False\n",
    "\n",
    "    def __init__(self, model, space, optimizer, cost_withGradients=None, **kwargs):\n",
    "        self.optimizer = optimizer\n",
    "        super(UCB, self).__init__(model, space, optimizer)\n",
    "\n",
    "    def _compute_acq(self,x):\n",
    "        m, s = self.model.predict(x)   \n",
    "        f_acqu = -m + 2*s\n",
    "        return f_acqu"
   ]
  },
  {
   "cell_type": "code",
   "execution_count": 3,
   "metadata": {},
   "outputs": [
    {
     "ename": "TypeError",
     "evalue": "BO.plot_acquisition() got an unexpected keyword argument 'f_pred'",
     "output_type": "error",
     "traceback": [
      "\u001b[0;31m---------------------------------------------------------------------------\u001b[0m",
      "\u001b[0;31mTypeError\u001b[0m                                 Traceback (most recent call last)",
      "Cell \u001b[0;32mIn[3], line 38\u001b[0m\n\u001b[1;32m     35\u001b[0m Y_step \u001b[38;5;241m=\u001b[39m np\u001b[38;5;241m.\u001b[39mvstack((Y_step, y_next))\n\u001b[1;32m     37\u001b[0m \u001b[38;5;66;03m#Plot acquisition plots\u001b[39;00m\n\u001b[0;32m---> 38\u001b[0m \u001b[43mbo_step\u001b[49m\u001b[38;5;241;43m.\u001b[39;49m\u001b[43mplot_acquisition\u001b[49m\u001b[43m(\u001b[49m\u001b[43mf_pred\u001b[49m\u001b[43m \u001b[49m\u001b[38;5;241;43m=\u001b[39;49m\u001b[43m \u001b[49m\u001b[43mY\u001b[49m\u001b[43m,\u001b[49m\u001b[43m \u001b[49m\u001b[43mlabel_x\u001b[49m\u001b[43m \u001b[49m\u001b[38;5;241;43m=\u001b[39;49m\u001b[43m \u001b[49m\u001b[38;5;124;43mr\u001b[39;49m\u001b[38;5;124;43m\"\u001b[39;49m\u001b[38;5;124;43m$\u001b[39;49m\u001b[38;5;124;43m\\\u001b[39;49m\u001b[38;5;124;43mbf\u001b[39;49m\u001b[38;5;132;43;01m{x}\u001b[39;49;00m\u001b[38;5;124;43m$\u001b[39;49m\u001b[38;5;124;43m\"\u001b[39;49m\u001b[43m,\u001b[49m\u001b[43m \u001b[49m\u001b[43mlabel_y\u001b[49m\u001b[43m \u001b[49m\u001b[38;5;241;43m=\u001b[39;49m\u001b[43m \u001b[49m\u001b[38;5;124;43mr\u001b[39;49m\u001b[38;5;124;43m\"\u001b[39;49m\u001b[38;5;124;43m$\u001b[39;49m\u001b[38;5;124;43m\\\u001b[39;49m\u001b[38;5;124;43mbf\u001b[39;49m\u001b[38;5;124;43m{\u001b[39;49m\u001b[38;5;124;43mf_\u001b[39;49m\u001b[38;5;132;43;01m{e}\u001b[39;49;00m\u001b[38;5;124;43m}$\u001b[39;49m\u001b[38;5;124;43m\"\u001b[39;49m\u001b[43m,\u001b[49m\u001b[43m \u001b[49m\u001b[43mfilename\u001b[49m\u001b[43m \u001b[49m\u001b[38;5;241;43m=\u001b[39;49m\u001b[43m \u001b[49m\u001b[43mfilename\u001b[49m\u001b[43m)\u001b[49m\n",
      "\u001b[0;31mTypeError\u001b[0m: BO.plot_acquisition() got an unexpected keyword argument 'f_pred'"
     ]
    }
   ],
   "source": [
    "import matplotlib.pyplot as plt\n",
    "#Initializing domain from bounds\n",
    "domain = [{'name': 'X', 'type': 'continuous', 'domain': bounds.ravel()}]\n",
    "\n",
    "#Initializing useful parameters\n",
    "kernel = GPy.kern.Matern32(input_dim=X_init.shape[1])\n",
    "objective = GPyOpt.core.task.SingleObjective(f_pred)\n",
    "space = GPyOpt.Design_space(space = domain)\n",
    "aquisition_optimizer = GPyOpt.optimization.AcquisitionOptimizer(space)\n",
    "model = GPyOpt.models.GPModel(optimize_restarts=5,verbose=False, kernel = kernel)\n",
    "model.noise_var = 0\n",
    "aquisition_optimizer = GPyOpt.optimization.AcquisitionOptimizer(space)\n",
    "acquisition = UCB(model, space, optimizer=aquisition_optimizer)\n",
    "evaluator = GPyOpt.core.evaluators.Sequential(acquisition)\n",
    "\n",
    "#Initializing D_explain\n",
    "X_init = np.array([X[350]])\n",
    "Y_init = np.array([Y[350]])\n",
    "X_step = X_init\n",
    "Y_step = Y_init\n",
    "\n",
    "#Run for 10 iterations\n",
    "max_iter = 30\n",
    "\n",
    "for iteration in range(max_iter):\n",
    "    filename = f\"fig_{iteration}\"                       \n",
    "    bo_step = GPyOpt.methods.ModularBayesianOptimization(model, space, objective, acquisition, evaluator, X_init = X_step, Y_init = Y_step)\n",
    "\n",
    "    #Take suggestion from f_suggest\n",
    "    x_next = bo_step.suggest_next_locations()\n",
    "    y_next = f_pred(x_next)\n",
    "    \n",
    "    #Concatenating new values to D_explain\n",
    "    X_step = np.vstack((X_step, x_next))\n",
    "    Y_step = np.vstack((Y_step, y_next))\n",
    "    \n",
    "    #Plot acquisition plots\n",
    "    bo_step.plot_acquisition(f_pred = Y, label_x = r\"$\\bf{x}$\", label_y = r\"$\\bf{f_{e}}$\", filename = filename)\n"
   ]
  },
  {
   "cell_type": "code",
   "execution_count": 4,
   "metadata": {},
   "outputs": [
    {
     "name": "stdout",
     "output_type": "stream",
     "text": [
      "Package           Version   Editable project location\n",
      "----------------- --------- ------------------------------------------\n",
      "asttokens         2.2.1\n",
      "backcall          0.2.0\n",
      "certifi           2022.12.7\n",
      "comm              0.1.2\n",
      "cycler            0.11.0\n",
      "Cython            0.29.32\n",
      "debugpy           1.6.4\n",
      "decorator         5.1.1\n",
      "entrypoints       0.4\n",
      "executing         1.2.0\n",
      "GPy               1.10.0\n",
      "GPyOpt            1.2.6     /home/pnans/Documents/GitHub/GPyOpt-master\n",
      "ipykernel         6.19.4\n",
      "ipython           8.7.0\n",
      "jedi              0.18.2\n",
      "joblib            1.2.0\n",
      "jupyter_client    7.4.8\n",
      "jupyter_core      5.1.1\n",
      "kiwisolver        1.4.4\n",
      "matplotlib        3.3.2\n",
      "matplotlib-inline 0.1.6\n",
      "nest-asyncio      1.5.6\n",
      "numpy             1.23.1\n",
      "packaging         22.0\n",
      "paramz            0.9.5\n",
      "parso             0.8.3\n",
      "pexpect           4.8.0\n",
      "pickleshare       0.7.5\n",
      "Pillow            9.3.0\n",
      "pip               22.3.1\n",
      "platformdirs      2.6.2\n",
      "prompt-toolkit    3.0.36\n",
      "psutil            5.9.4\n",
      "ptyprocess        0.7.0\n",
      "pure-eval         0.2.2\n",
      "Pygments          2.13.0\n",
      "pyparsing         3.0.9\n",
      "python-dateutil   2.8.2\n",
      "pyzmq             24.0.1\n",
      "scikit-learn      1.0\n",
      "scipy             1.9.3\n",
      "setuptools        65.6.3\n",
      "six               1.16.0\n",
      "sklearn           0.0.post1\n",
      "stack-data        0.6.2\n",
      "threadpoolctl     3.1.0\n",
      "tornado           6.2\n",
      "traitlets         5.8.0\n",
      "wcwidth           0.2.5\n",
      "wheel             0.38.4\n"
     ]
    }
   ],
   "source": [
    "!pip list"
   ]
  },
  {
   "cell_type": "code",
   "execution_count": null,
   "metadata": {},
   "outputs": [],
   "source": []
  }
 ],
 "metadata": {
  "kernelspec": {
   "display_name": "Python 3 (ipykernel)",
   "language": "python",
   "name": "python3"
  },
  "language_info": {
   "codemirror_mode": {
    "name": "ipython",
    "version": 3
   },
   "file_extension": ".py",
   "mimetype": "text/x-python",
   "name": "python",
   "nbconvert_exporter": "python",
   "pygments_lexer": "ipython3",
   "version": "3.10.6"
  },
  "vscode": {
   "interpreter": {
    "hash": "88dd672976dc9d08b9510da4c459516068c52912ae74442a86d2044f50ee08d3"
   }
  }
 },
 "nbformat": 4,
 "nbformat_minor": 2
}
